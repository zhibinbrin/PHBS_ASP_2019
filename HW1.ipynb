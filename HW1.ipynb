{
 "cells": [
  {
   "cell_type": "markdown",
   "metadata": {},
   "source": [
    "**1. First, let's create a pricing function and check the std **"
   ]
  },
  {
   "cell_type": "code",
   "execution_count": 3,
   "metadata": {},
   "outputs": [],
   "source": [
    "import numpy as np"
   ]
  },
  {
   "cell_type": "code",
   "execution_count": 4,
   "metadata": {},
   "outputs": [],
   "source": [
    "def_rate = 0.1\n",
    "rf_rate = 0.03\n",
    "recovery = 0.3\n",
    "mat = 10"
   ]
  },
  {
   "cell_type": "code",
   "execution_count": 31,
   "metadata": {},
   "outputs": [
    {
     "data": {
      "text/plain": [
       "(10.099238893752359, 10.0)"
      ]
     },
     "execution_count": 31,
     "metadata": {},
     "output_type": "execute_result"
    }
   ],
   "source": [
    "# First generate exponential random numbers\n",
    "# Although you can generate directly using fault_time = np.random.exponential(scale=), let's use uniform random numbers.\n",
    "n_sample = 10000\n",
    "U = np.random.uniform(size=n_sample)\n",
    "default_time = -(1/def_rate)*np.log(U)\n",
    "\n",
    "# You can check if the RNs are correct by comparing the means\n",
    "# Comparing the sample mean with the real mean\n",
    "(default_time.mean(), 1/def_rate)"
   ]
  },
  {
   "cell_type": "code",
   "execution_count": 32,
   "metadata": {},
   "outputs": [
    {
     "data": {
      "text/plain": [
       "0.44184995080538775"
      ]
     },
     "execution_count": 32,
     "metadata": {},
     "output_type": "execute_result"
    }
   ],
   "source": [
    "# Put your code here to price the corporate bond\n",
    "\n",
    "def corp_bond(mat=1, def_rate=0.03, rf_rate=0.04, recovery=0.3, n_sample=1e4):\n",
    "    U = np.random.uniform(size=n_sample)\n",
    "    default_time = -(1/def_rate)*np.log(U)\n",
    "    P=[]\n",
    "    for i in default_time:\n",
    "        if (i<mat):\n",
    "            p_def=recovery*np.exp(-rf_rate*i)\n",
    "            P.append(p_def)\n",
    "        else:\n",
    "            p_mat=np.exp(-rf_rate*mat)\n",
    "            P.append(p_mat)\n",
    "    price=np.mean(P)\n",
    "    return price\n",
    "\n",
    "# Call your function\n",
    "corp_bond(mat, def_rate, rf_rate, recovery, n_sample)"
   ]
  },
  {
   "cell_type": "code",
   "execution_count": 7,
   "metadata": {},
   "outputs": [
    {
     "name": "stdout",
     "output_type": "stream",
     "text": [
      "0.4404035076968 0.002385019953854281\n"
     ]
    }
   ],
   "source": [
    "# Find the mean and std by calling the function 100 times. \n",
    "num_sampling=100\n",
    "p_stat=[]\n",
    "for i in range(num_sampling):\n",
    "    p=corp_bond(mat, def_rate, rf_rate, recovery, n_sample)\n",
    "    p_stat.append(p)\n",
    "    \n",
    "print(np.mean(p_stat),np.std(p_stat))"
   ]
  },
  {
   "cell_type": "markdown",
   "metadata": {},
   "source": [
    "\n",
    "**2. Now, let's improve the function by reducing the MC variations.**<p>\n",
    "    (1)Use antithetic method: If U is uniform random variable, so is 1-U<p>\n",
    "    (2)Also shift the RNs to match the mean, 1/def_rate\n",
    "\n"
   ]
  },
  {
   "cell_type": "code",
   "execution_count": 33,
   "metadata": {},
   "outputs": [
    {
     "data": {
      "text/plain": [
       "(10.0, 10.0)"
      ]
     },
     "execution_count": 33,
     "metadata": {},
     "output_type": "execute_result"
    }
   ],
   "source": [
    "# For example, antithetic method mean\n",
    "n_sample = 10000\n",
    "U = np.random.uniform(size=int(n_sample/2))\n",
    "default_time = -(1/def_rate)*np.log(np.concatenate((U,1-U),axis=0))#concatenate U with 1-U to make 10000 samples\n",
    "\n",
    "# Mean-matching means\n",
    "default_time += 1/def_rate-default_time.mean()\n",
    "(default_time.mean(), 1/def_rate)"
   ]
  },
  {
   "cell_type": "code",
   "execution_count": null,
   "metadata": {},
   "outputs": [],
   "source": [
    "# Now include the two new features: `antithetic` and `mean_match`\n",
    "\n",
    "def corp_bond_cv(mat=1, def_rate=0.03, rf_rate=0.04, recovery=0.3, n_sample=1e4, antithetic=True, mean_match=True):\n",
    "    if(antithetic):\n",
    "        U = np.random.uniform(size= int(n_sample/2))\n",
    "        default_time = -(1/def_rate)*np.log(np.concatenate((U,1-U),axis=0))\n",
    "    else:\n",
    "        U = np.random.uniform(size=n_sample)\n",
    "        default_time = -(1/def_rate)*np.log(U)\n",
    "        \n",
    "    if(mean_match):\n",
    "        default_time += 1/def_rate-default_time.mean()\n",
    "        \n",
    "    P=[]\n",
    "    for i in default_time:\n",
    "        if (i<mat):\n",
    "            p_def=recovery*np.exp(-rf_rate*i)\n",
    "            P.append(p_def)\n",
    "        else:\n",
    "            p_mat=np.exp(-rf_rate*mat)\n",
    "            P.append(p_mat)\n",
    "            \n",
    "    price=np.mean(P)\n",
    "    return price"
   ]
  },
  {
   "cell_type": "code",
   "execution_count": 34,
   "metadata": {},
   "outputs": [
    {
     "data": {
      "text/plain": [
       "0.4421195274179043"
      ]
     },
     "execution_count": 34,
     "metadata": {},
     "output_type": "execute_result"
    }
   ],
   "source": [
    "corp_bond_cv(mat, def_rate, rf_rate, recovery, n_sample)"
   ]
  },
  {
   "cell_type": "code",
   "execution_count": 37,
   "metadata": {},
   "outputs": [
    {
     "name": "stdout",
     "output_type": "stream",
     "text": [
      "With only antithetic feature,the mean and std are 0.4405311816437482 0.0015380846751323653\n",
      "With only mean_match feature,the mean and std are 0.44015552091929044 0.0015478649698159623\n",
      "With both features,the mean and std are 0.440394770419067 0.0015123452258713357\n"
     ]
    }
   ],
   "source": [
    "# Find the mean and std by calling the function 100 times for (i) antithetic (ii) mean_match and (iii) both\n",
    "num_sampling2=100\n",
    "p1_stat2=[]\n",
    "p2_stat2=[]\n",
    "p3_stat2=[]\n",
    "for i in range(num_sampling):\n",
    "    p1=corp_bond_cv(mat, def_rate, rf_rate, recovery, n_sample,antithetic=True, mean_match=False)\n",
    "    p1_stat2.append(p1)\n",
    "    p2=corp_bond_cv(mat, def_rate, rf_rate, recovery, n_sample,antithetic=False, mean_match=True)\n",
    "    p2_stat2.append(p2)\n",
    "    p3=corp_bond_cv(mat, def_rate, rf_rate, recovery, n_sample,antithetic=True, mean_match=True)\n",
    "    p3_stat2.append(p3)\n",
    "print('With only antithetic feature,the mean and std are',np.mean(p1_stat2),np.std(p1_stat2))\n",
    "print('With only mean_match feature,the mean and std are',np.mean(p2_stat2),np.std(p2_stat2))\n",
    "print('With both features,the mean and std are',np.mean(p3_stat2),np.std(p3_stat2))"
   ]
  },
  {
   "cell_type": "markdown",
   "metadata": {},
   "source": [
    "**3. Finally, what is the analytic value of the corporate bond?<p>How does it compare to your MC result above?**"
   ]
  },
  {
   "cell_type": "code",
   "execution_count": 38,
   "metadata": {},
   "outputs": [
    {
     "name": "stdout",
     "output_type": "stream",
     "text": [
      "The analytic value is 0.44040907156462505\n",
      "The spread between analystic value and the (i)is 0.00012211007912316107\n",
      "The spread between analystic value and the (ii)is 0.00025355064533461036\n",
      "The spread between analystic value and the (iii)is 1.4301145558059947e-05\n"
     ]
    }
   ],
   "source": [
    "r=def_rate+rf_rate\n",
    "real_price=(1-np.exp(-r*mat))*0.3*def_rate/r+np.exp(-r*mat)\n",
    "print('The analytic value is',real_price)\n",
    "print('The spread between analystic value and the (i)is',np.abs(real_price-np.mean(p1_stat2)))\n",
    "print('The spread between analystic value and the (ii)is',np.abs(real_price-np.mean(p2_stat2)))\n",
    "print('The spread between analystic value and the (iii)is',np.abs(real_price-np.mean(p3_stat2)))"
   ]
  }
 ],
 "metadata": {
  "kernelspec": {
   "display_name": "Python 3",
   "language": "python",
   "name": "python3"
  },
  "language_info": {
   "codemirror_mode": {
    "name": "ipython",
    "version": 3
   },
   "file_extension": ".py",
   "mimetype": "text/x-python",
   "name": "python",
   "nbconvert_exporter": "python",
   "pygments_lexer": "ipython3",
   "version": "3.6.5"
  }
 },
 "nbformat": 4,
 "nbformat_minor": 2
}
