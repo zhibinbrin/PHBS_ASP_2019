{
 "cells": [
  {
   "cell_type": "markdown",
   "metadata": {},
   "source": [
    "**1. First, let's create a pricing function and check the std **"
   ]
  },
  {
   "cell_type": "code",
   "execution_count": 1,
   "metadata": {},
   "outputs": [],
   "source": [
    "import numpy as np"
   ]
  },
  {
   "cell_type": "code",
   "execution_count": 27,
   "metadata": {},
   "outputs": [],
   "source": [
    "def_rate = 0.1\n",
    "rf_rate = 0.03\n",
    "recovery = 0.3\n",
    "mat = 10"
   ]
  },
  {
   "cell_type": "code",
   "execution_count": 28,
   "metadata": {},
   "outputs": [
    {
     "data": {
      "text/plain": [
       "(9.94702690956294, 10.0)"
      ]
     },
     "execution_count": 28,
     "metadata": {},
     "output_type": "execute_result"
    }
   ],
   "source": [
    "# First generate exponential random numbers\n",
    "# Although you can generate directly using fault_time = np.random.exponential(scale=), let's use uniform random numbers.\n",
    "n_sample = 10000\n",
    "U = np.random.uniform(size=n_sample)\n",
    "default_time = -(1/def_rate)*np.log(U)\n",
    "\n",
    "# You can check if the RNs are correct by comparing the means\n",
    "# Comparing the sample mean with the real mean\n",
    "(default_time.mean(), 1/def_rate)"
   ]
  },
  {
   "cell_type": "code",
   "execution_count": 35,
   "metadata": {},
   "outputs": [
    {
     "data": {
      "text/plain": [
       "0.4331710082064671"
      ]
     },
     "execution_count": 35,
     "metadata": {},
     "output_type": "execute_result"
    }
   ],
   "source": [
    "# Put your code here to price the corporate bond\n",
    "\n",
    "def corp_bond(mat=1, def_rate=0.03, rf_rate=0.04, recovery=0.3, n_sample=1e4):\n",
    "    U = np.random.uniform(size=n_sample)\n",
    "    default_time = -(1/def_rate)*np.log(U)\n",
    "    P=[]\n",
    "    for i in default_time:\n",
    "        if (i<mat):\n",
    "            p_def=recovery*np.exp(-rf_rate*i)\n",
    "            P.append(p_def)\n",
    "        else:\n",
    "            p_mat=np.exp(-rf_rate*mat)\n",
    "            P.append(p_mat)\n",
    "    price=np.mean(P)\n",
    "    return price\n",
    "\n",
    "# Call your function\n",
    "corp_bond(mat, def_rate, rf_rate, recovery, n_sample)"
   ]
  },
  {
   "cell_type": "code",
   "execution_count": 41,
   "metadata": {},
   "outputs": [
    {
     "name": "stdout",
     "output_type": "stream",
     "text": [
      "0.44010674316132303 0.0023379168988373724\n"
     ]
    }
   ],
   "source": [
    "# Find the mean and std by calling the function 100 times. \n",
    "num_sampling=100\n",
    "p_stat=[]\n",
    "for i in range(num_sampling):\n",
    "    p=corp_bond(mat, def_rate, rf_rate, recovery, n_sample)\n",
    "    p_stat.append(p)\n",
    "    \n",
    "print(np.mean(p_stat),np.std(p_stat))"
   ]
  },
  {
   "cell_type": "markdown",
   "metadata": {},
   "source": [
    "\n",
    "**2. Now, let's improve the function by reducing the MC variations.**<p>\n",
    "    (1)Use antithetic method: If U is uniform random variable, so is 1-U<p>\n",
    "    (2)Also shift the RNs to match the mean, 1/def_rate\n",
    "\n"
   ]
  },
  {
   "cell_type": "code",
   "execution_count": 56,
   "metadata": {},
   "outputs": [
    {
     "data": {
      "text/plain": [
       "(10.0, 10.0)"
      ]
     },
     "execution_count": 56,
     "metadata": {},
     "output_type": "execute_result"
    }
   ],
   "source": [
    "# For example, antithetic method mean\n",
    "n_sample = 10000\n",
    "U = np.random.uniform(size=int(n_sample/2))\n",
    "default_time = -(1/def_rate)*np.log(np.concatenate((U,1-U),axis=0))#concatenate U with 1-U to make 10000 samples\n",
    "\n",
    "# Mean-matching means\n",
    "default_time += 1/def_rate-default_time.mean()\n",
    "(default_time.mean(), 1/def_rate)"
   ]
  },
  {
   "cell_type": "code",
   "execution_count": 57,
   "metadata": {},
   "outputs": [],
   "source": [
    "# Now include the two new features: `antithetic` and `mean_match`\n",
    "\n",
    "def corp_bond_cv(mat=1, def_rate=0.03, rf_rate=0.04, recovery=0.3, n_sample=1e4, antithetic=True, mean_match=True):\n",
    "    if(antithetic):\n",
    "        U = np.random.uniform(size= int(n_sample/2))\n",
    "        default_time = -(1/def_rate)*np.log(np.concatenate((U,1-U),axis=0))\n",
    "    else:\n",
    "        U = np.random.uniform(size=n_sample)\n",
    "        default_time = -(1/def_rate)*np.log(U)\n",
    "        \n",
    "    if(mean_match):\n",
    "        default_time += 1/def_rate-default_time.mean()\n",
    "        \n",
    "    P=[]\n",
    "    for i in default_time:\n",
    "        if (i<mat):\n",
    "            p_def=recovery*np.exp(-rf_rate*i)\n",
    "            P.append(p_def)\n",
    "        else:\n",
    "            p_mat=np.exp(-rf_rate*mat)\n",
    "            P.append(p_mat)\n",
    "            \n",
    "    price=np.mean(P)\n",
    "    return price"
   ]
  },
  {
   "cell_type": "code",
   "execution_count": 59,
   "metadata": {},
   "outputs": [
    {
     "data": {
      "text/plain": [
       "0.4418416282089862"
      ]
     },
     "execution_count": 59,
     "metadata": {},
     "output_type": "execute_result"
    }
   ],
   "source": [
    "corp_bond_cv(mat, def_rate, rf_rate, recovery, n_sample)"
   ]
  },
  {
   "cell_type": "code",
   "execution_count": 60,
   "metadata": {},
   "outputs": [
    {
     "name": "stdout",
     "output_type": "stream",
     "text": [
      "0.44038699524977276 0.0015179982715957461\n"
     ]
    }
   ],
   "source": [
    "# Find the mean and std by calling the function 100 times for (i) antithetic (ii) mean_match and (iii) both\n",
    "num_sampling2=100\n",
    "p_stat2=[]\n",
    "for i in range(num_sampling):\n",
    "    p=corp_bond_cv(mat, def_rate, rf_rate, recovery, n_sample)\n",
    "    p_stat2.append(p)\n",
    "    \n",
    "print(np.mean(p_stat2),np.std(p_stat2))"
   ]
  },
  {
   "cell_type": "markdown",
   "metadata": {},
   "source": [
    "**3. Finally, what is the analytic value of the corporate bond?<p>How does it compare to your MC result above?**"
   ]
  },
  {
   "cell_type": "code",
   "execution_count": 65,
   "metadata": {},
   "outputs": [
    {
     "name": "stdout",
     "output_type": "stream",
     "text": [
      "The analytic value is 0.44040907156462505\n",
      "The MC value is 0.44038699524977276\n",
      "The spread is 2.207631485229289e-05\n"
     ]
    }
   ],
   "source": [
    "r=def_rate+rf_rate\n",
    "real_price=(1-np.exp(-r*mat))*0.3*def_rate/r+np.exp(-r*mat)\n",
    "print('The analytic value is',real_price)\n",
    "print('The MC value is',np.mean(p_stat2))\n",
    "print('The spread is',real_price-np.mean(p_stat2))"
   ]
  }
 ],
 "metadata": {
  "kernelspec": {
   "display_name": "Python 3",
   "language": "python",
   "name": "python3"
  },
  "language_info": {
   "codemirror_mode": {
    "name": "ipython",
    "version": 3
   },
   "file_extension": ".py",
   "mimetype": "text/x-python",
   "name": "python",
   "nbconvert_exporter": "python",
   "pygments_lexer": "ipython3",
   "version": "3.6.5"
  }
 },
 "nbformat": 4,
 "nbformat_minor": 2
}
